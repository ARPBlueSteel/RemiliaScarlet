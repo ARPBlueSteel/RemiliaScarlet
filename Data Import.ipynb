{
 "cells": [
  {
   "cell_type": "markdown",
   "id": "768eb0c9-35cb-4a4c-9fa0-c0f6bb95d06e",
   "metadata": {},
   "source": [
    "# Packages and Initialization"
   ]
  },
  {
   "cell_type": "code",
   "execution_count": 4,
   "id": "b96bce88-05c7-4189-8f88-a6f635d8773a",
   "metadata": {},
   "outputs": [
    {
     "name": "stderr",
     "output_type": "stream",
     "text": [
      "Warning message:\n",
      "\"package 'ggExtra' was built under R version 4.4.3\"\n"
     ]
    }
   ],
   "source": [
    "library(tidyverse)\n",
    "library(httr2) # for making api requests\n",
    "library(uuid)  # For generating a UUID\n",
    "library(jsonlite) # for working with JSONs\n",
    "library(ggExtra)"
   ]
  },
  {
   "cell_type": "code",
   "execution_count": 6,
   "id": "3f6f916d-e719-414c-9f52-a498f0868af8",
   "metadata": {},
   "outputs": [],
   "source": [
    "get_league_leaderboard<- function(country,session_id){\n",
    "    url <- \"https://ch.tetr.io/api/users/by/league?\"\n",
    "    paginate <- TRUE\n",
    "    paginate_key <- NULL\n",
    "    all_players <- NULL\n",
    "    \n",
    "    while (paginate){\n",
    "        if (is.null(paginate_key)){\n",
    "            request <- request(url) %>%\n",
    "        req_url_query(country = country,\n",
    "                      limit = 100) %>%\n",
    "        req_headers(\n",
    "            `User-Agent` = \"RemiliaScarlet\",\n",
    "            `X-Session-ID` = session_id\n",
    "        )\n",
    "        result <- req_perform(request)|> \n",
    "        resp_body_string()|>\n",
    "        fromJSON()|>\n",
    "        as.data.frame()|>\n",
    "        flatten(recursive = TRUE)\n",
    "        } else {\n",
    "            request <- request(url) %>%\n",
    "        req_url_query(country= country,\n",
    "                      limit = 100,\n",
    "                      after = paginate_key) %>%\n",
    "        req_headers(\n",
    "            `User-Agent` = \"RemiliaScarlet\",\n",
    "            `X-Session-ID` = session_id,\n",
    "        )\n",
    "        result <- req_perform(request)|> \n",
    "        resp_body_string()|>\n",
    "        fromJSON()|>\n",
    "        as.data.frame()|>\n",
    "        flatten(recursive = TRUE)\n",
    "        }\n",
    "        if (is.null(all_players)){\n",
    "            all_players <- result\n",
    "        } else {\n",
    "            all_players <- full_join(all_players, result)\n",
    "        }\n",
    "        \n",
    "        length <- nrow(result)\n",
    "        if (length < 100){\n",
    "        paginate <- FALSE\n",
    "        } else {\n",
    "        last_user <- slice_min(result,`data.entries.p.pri`)\n",
    "        paginate_key <- last_user$`data.entries.p.pri`|>\n",
    "        paste(\"0\",\"0\", sep = \":\")\n",
    "        }\n",
    "        Sys.sleep(1)\n",
    "    }\n",
    "    return(all_players)\n",
    "}\n",
    "# Gets the last games played by the user\n",
    "get_user_games_json <- function(username,session_id){\n",
    "        url <- paste0(\"https://ch.tetr.io/api/users/\",username,\"/records/league/recent\")\n",
    "        request <- request(url) %>%\n",
    "        req_headers(\n",
    "            `User-Agent` = \"RemiliaScarlet\",\n",
    "            `X-Session-ID` = session_id\n",
    "        )\n",
    "        result <- req_perform(request)|> \n",
    "        resp_body_string()|>\n",
    "        fromJSON(flatten = TRUE)\n",
    "        Sys.sleep(1)\n",
    "        return(result)\n",
    "        \n",
    "}\n",
    "\n",
    "# Parse the match data json into a dataframe\n",
    "parse_user_matches <- function(json){\n",
    "    dataframe <- json$data$entries$results.rounds %>%\n",
    "    bind_rows(.id = \"column_label\") %>%\n",
    "    select(-c(id,\n",
    "              username,\n",
    "              shadows,\n",
    "              shadowedBy,\n",
    "              stats.altitude,\n",
    "              stats.targetingfactor,\n",
    "              stats.targetinggrace,\n",
    "              stats.escapeartist,\n",
    "              stats.blockrationing_app,\n",
    "              stats.blockrationing_final,\n",
    "              stats.rank,stats.revives)\n",
    "          )%>%\n",
    "    pivot_wider(names_from = naturalorder, values_from = active:stats.btb) %>%\n",
    "    select(-c(active_0,active_1,naturalorder_0,naturalorder_1))\n",
    "    return(dataframe)\n",
    "}\n"
   ]
  },
  {
   "cell_type": "code",
   "execution_count": 129,
   "id": "198ce64a-0945-4cee-93c5-4223f2bfa7d8",
   "metadata": {},
   "outputs": [],
   "source": [
    "UUID <- UUIDgenerate()"
   ]
  },
  {
   "cell_type": "code",
   "execution_count": 131,
   "id": "db3e977e-aaf0-45da-b43e-f7c555ebd6b4",
   "metadata": {
    "scrolled": true
   },
   "outputs": [
    {
     "name": "stderr",
     "output_type": "stream",
     "text": [
      "\u001b[1m\u001b[22mJoining with `by = join_by(success, data.entries._id, data.entries.username, data.entries.role, data.entries.xp,\n",
      "data.entries.supporter, data.entries.country, data.entries.ts, data.entries.gamesplayed, data.entries.gameswon,\n",
      "data.entries.gametime, data.entries.ar, cache.status, cache.cached_at, cache.cached_until,\n",
      "data.entries.league.gamesplayed, data.entries.league.gameswon, data.entries.league.glicko, data.entries.league.rd,\n",
      "data.entries.league.tr, data.entries.league.gxe, data.entries.league.rank, data.entries.league.bestrank,\n",
      "data.entries.league.apm, data.entries.league.pps, data.entries.league.vs, data.entries.league.decaying,\n",
      "data.entries.ar_counts.1, data.entries.ar_counts.2, data.entries.ar_counts.3, data.entries.ar_counts.4,\n",
      "data.entries.ar_counts.5, data.entries.ar_counts.100, data.entries.ar_counts.t100, data.entries.p.pri,\n",
      "data.entries.p.sec, data.entries.p.ter)`\n",
      "\u001b[1m\u001b[22mJoining with `by = join_by(success, data.entries._id, data.entries.username, data.entries.role, data.entries.xp,\n",
      "data.entries.supporter, data.entries.country, data.entries.ts, data.entries.gamesplayed, data.entries.gameswon,\n",
      "data.entries.gametime, data.entries.ar, cache.status, cache.cached_at, cache.cached_until,\n",
      "data.entries.league.gamesplayed, data.entries.league.gameswon, data.entries.league.glicko, data.entries.league.rd,\n",
      "data.entries.league.tr, data.entries.league.gxe, data.entries.league.rank, data.entries.league.bestrank,\n",
      "data.entries.league.apm, data.entries.league.pps, data.entries.league.vs, data.entries.league.decaying,\n",
      "data.entries.ar_counts.1, data.entries.ar_counts.2, data.entries.ar_counts.3, data.entries.ar_counts.4,\n",
      "data.entries.ar_counts.5, data.entries.ar_counts.100, data.entries.ar_counts.t100, data.entries.p.pri,\n",
      "data.entries.p.sec, data.entries.p.ter)`\n",
      "\u001b[1m\u001b[22mJoining with `by = join_by(success, data.entries._id, data.entries.username, data.entries.role, data.entries.xp,\n",
      "data.entries.supporter, data.entries.country, data.entries.ts, data.entries.gamesplayed, data.entries.gameswon,\n",
      "data.entries.gametime, data.entries.ar, cache.status, cache.cached_at, cache.cached_until,\n",
      "data.entries.league.gamesplayed, data.entries.league.gameswon, data.entries.league.glicko, data.entries.league.rd,\n",
      "data.entries.league.tr, data.entries.league.gxe, data.entries.league.rank, data.entries.league.bestrank,\n",
      "data.entries.league.apm, data.entries.league.pps, data.entries.league.vs, data.entries.league.decaying,\n",
      "data.entries.ar_counts.1, data.entries.ar_counts.2, data.entries.ar_counts.3, data.entries.ar_counts.4,\n",
      "data.entries.ar_counts.5, data.entries.ar_counts.100, data.entries.p.pri, data.entries.p.sec, data.entries.p.ter)`\n",
      "\u001b[1m\u001b[22mJoining with `by = join_by(success, data.entries._id, data.entries.username, data.entries.role, data.entries.xp,\n",
      "data.entries.supporter, data.entries.country, data.entries.ts, data.entries.gamesplayed, data.entries.gameswon,\n",
      "data.entries.gametime, data.entries.ar, cache.status, cache.cached_at, cache.cached_until,\n",
      "data.entries.league.gamesplayed, data.entries.league.gameswon, data.entries.league.glicko, data.entries.league.rd,\n",
      "data.entries.league.tr, data.entries.league.gxe, data.entries.league.rank, data.entries.league.bestrank,\n",
      "data.entries.league.apm, data.entries.league.pps, data.entries.league.vs, data.entries.league.decaying,\n",
      "data.entries.ar_counts.1, data.entries.ar_counts.2, data.entries.ar_counts.3, data.entries.ar_counts.4,\n",
      "data.entries.ar_counts.5, data.entries.ar_counts.100, data.entries.p.pri, data.entries.p.sec, data.entries.p.ter)`\n",
      "\u001b[1m\u001b[22mJoining with `by = join_by(success, data.entries._id, data.entries.username, data.entries.role, data.entries.xp,\n",
      "data.entries.supporter, data.entries.country, data.entries.ts, data.entries.gamesplayed, data.entries.gameswon,\n",
      "data.entries.gametime, data.entries.ar, cache.status, cache.cached_at, cache.cached_until,\n",
      "data.entries.league.gamesplayed, data.entries.league.gameswon, data.entries.league.glicko, data.entries.league.rd,\n",
      "data.entries.league.tr, data.entries.league.gxe, data.entries.league.rank, data.entries.league.bestrank,\n",
      "data.entries.league.apm, data.entries.league.pps, data.entries.league.vs, data.entries.league.decaying,\n",
      "data.entries.ar_counts.1, data.entries.ar_counts.2, data.entries.ar_counts.3, data.entries.ar_counts.4,\n",
      "data.entries.ar_counts.5, data.entries.ar_counts.100, data.entries.p.pri, data.entries.p.sec, data.entries.p.ter)`\n",
      "\u001b[1m\u001b[22mJoining with `by = join_by(success, data.entries._id, data.entries.username, data.entries.role, data.entries.xp,\n",
      "data.entries.supporter, data.entries.country, data.entries.ts, data.entries.gamesplayed, data.entries.gameswon,\n",
      "data.entries.gametime, data.entries.ar, cache.status, cache.cached_at, cache.cached_until,\n",
      "data.entries.league.gamesplayed, data.entries.league.gameswon, data.entries.league.glicko, data.entries.league.rd,\n",
      "data.entries.league.tr, data.entries.league.gxe, data.entries.league.rank, data.entries.league.bestrank,\n",
      "data.entries.league.apm, data.entries.league.pps, data.entries.league.vs, data.entries.league.decaying,\n",
      "data.entries.ar_counts.1, data.entries.ar_counts.2, data.entries.ar_counts.3, data.entries.ar_counts.4,\n",
      "data.entries.ar_counts.5, data.entries.ar_counts.100, data.entries.p.pri, data.entries.p.sec, data.entries.p.ter)`\n",
      "\u001b[1m\u001b[22mJoining with `by = join_by(success, data.entries._id, data.entries.username, data.entries.role, data.entries.xp,\n",
      "data.entries.supporter, data.entries.country, data.entries.ts, data.entries.gamesplayed, data.entries.gameswon,\n",
      "data.entries.gametime, data.entries.ar, cache.status, cache.cached_at, cache.cached_until,\n",
      "data.entries.league.gamesplayed, data.entries.league.gameswon, data.entries.league.glicko, data.entries.league.rd,\n",
      "data.entries.league.tr, data.entries.league.gxe, data.entries.league.rank, data.entries.league.bestrank,\n",
      "data.entries.league.apm, data.entries.league.pps, data.entries.league.vs, data.entries.league.decaying,\n",
      "data.entries.ar_counts.1, data.entries.ar_counts.2, data.entries.ar_counts.3, data.entries.ar_counts.4,\n",
      "data.entries.ar_counts.5, data.entries.ar_counts.100, data.entries.p.pri, data.entries.p.sec, data.entries.p.ter)`\n",
      "\u001b[1m\u001b[22mJoining with `by = join_by(success, data.entries._id, data.entries.username, data.entries.role, data.entries.xp,\n",
      "data.entries.supporter, data.entries.country, data.entries.ts, data.entries.gamesplayed, data.entries.gameswon,\n",
      "data.entries.gametime, data.entries.ar, cache.status, cache.cached_at, cache.cached_until,\n",
      "data.entries.league.gamesplayed, data.entries.league.gameswon, data.entries.league.glicko, data.entries.league.rd,\n",
      "data.entries.league.tr, data.entries.league.gxe, data.entries.league.rank, data.entries.league.bestrank,\n",
      "data.entries.league.apm, data.entries.league.pps, data.entries.league.vs, data.entries.league.decaying,\n",
      "data.entries.ar_counts.1, data.entries.ar_counts.2, data.entries.ar_counts.3, data.entries.ar_counts.4,\n",
      "data.entries.ar_counts.5, data.entries.ar_counts.100, data.entries.p.pri, data.entries.p.sec, data.entries.p.ter)`\n",
      "\u001b[1m\u001b[22mJoining with `by = join_by(success, data.entries._id, data.entries.username, data.entries.role, data.entries.xp,\n",
      "data.entries.supporter, data.entries.country, data.entries.ts, data.entries.gamesplayed, data.entries.gameswon,\n",
      "data.entries.gametime, data.entries.ar, cache.status, cache.cached_at, cache.cached_until,\n",
      "data.entries.league.gamesplayed, data.entries.league.gameswon, data.entries.league.glicko, data.entries.league.rd,\n",
      "data.entries.league.tr, data.entries.league.gxe, data.entries.league.rank, data.entries.league.bestrank,\n",
      "data.entries.league.apm, data.entries.league.pps, data.entries.league.vs, data.entries.league.decaying,\n",
      "data.entries.ar_counts.1, data.entries.ar_counts.2, data.entries.ar_counts.3, data.entries.ar_counts.4,\n",
      "data.entries.ar_counts.5, data.entries.ar_counts.100, data.entries.p.pri, data.entries.p.sec, data.entries.p.ter)`\n",
      "\u001b[1m\u001b[22mJoining with `by = join_by(success, data.entries._id, data.entries.username, data.entries.role, data.entries.xp,\n",
      "data.entries.supporter, data.entries.country, data.entries.ts, data.entries.gamesplayed, data.entries.gameswon,\n",
      "data.entries.gametime, data.entries.ar, cache.status, cache.cached_at, cache.cached_until,\n",
      "data.entries.league.gamesplayed, data.entries.league.gameswon, data.entries.league.glicko, data.entries.league.rd,\n",
      "data.entries.league.tr, data.entries.league.gxe, data.entries.league.rank, data.entries.league.bestrank,\n",
      "data.entries.league.apm, data.entries.league.pps, data.entries.league.vs, data.entries.league.decaying,\n",
      "data.entries.ar_counts.1, data.entries.ar_counts.2, data.entries.ar_counts.3, data.entries.ar_counts.4,\n",
      "data.entries.ar_counts.5, data.entries.ar_counts.100, data.entries.p.pri, data.entries.p.sec, data.entries.p.ter)`\n",
      "\u001b[1m\u001b[22mJoining with `by = join_by(success, data.entries._id, data.entries.username, data.entries.role, data.entries.xp,\n",
      "data.entries.supporter, data.entries.country, data.entries.ts, data.entries.gamesplayed, data.entries.gameswon,\n",
      "data.entries.gametime, data.entries.ar, cache.status, cache.cached_at, cache.cached_until,\n",
      "data.entries.league.gamesplayed, data.entries.league.gameswon, data.entries.league.glicko, data.entries.league.rd,\n",
      "data.entries.league.tr, data.entries.league.gxe, data.entries.league.rank, data.entries.league.bestrank,\n",
      "data.entries.league.apm, data.entries.league.pps, data.entries.league.vs, data.entries.league.decaying,\n",
      "data.entries.ar_counts.1, data.entries.ar_counts.2, data.entries.ar_counts.3, data.entries.ar_counts.4,\n",
      "data.entries.ar_counts.5, data.entries.ar_counts.100, data.entries.p.pri, data.entries.p.sec, data.entries.p.ter)`\n",
      "\u001b[1m\u001b[22mJoining with `by = join_by(success, data.entries._id, data.entries.username, data.entries.role, data.entries.xp,\n",
      "data.entries.supporter, data.entries.country, data.entries.ts, data.entries.gamesplayed, data.entries.gameswon,\n",
      "data.entries.gametime, data.entries.ar, cache.status, cache.cached_at, cache.cached_until,\n",
      "data.entries.league.gamesplayed, data.entries.league.gameswon, data.entries.league.glicko, data.entries.league.rd,\n",
      "data.entries.league.tr, data.entries.league.gxe, data.entries.league.rank, data.entries.league.bestrank,\n",
      "data.entries.league.apm, data.entries.league.pps, data.entries.league.vs, data.entries.league.decaying,\n",
      "data.entries.ar_counts.1, data.entries.ar_counts.2, data.entries.ar_counts.3, data.entries.ar_counts.4,\n",
      "data.entries.ar_counts.5, data.entries.ar_counts.100, data.entries.p.pri, data.entries.p.sec, data.entries.p.ter)`\n",
      "\u001b[1m\u001b[22mJoining with `by = join_by(success, data.entries._id, data.entries.username, data.entries.role, data.entries.xp,\n",
      "data.entries.supporter, data.entries.country, data.entries.ts, data.entries.gamesplayed, data.entries.gameswon,\n",
      "data.entries.gametime, data.entries.ar, cache.status, cache.cached_at, cache.cached_until,\n",
      "data.entries.league.gamesplayed, data.entries.league.gameswon, data.entries.league.glicko, data.entries.league.rd,\n",
      "data.entries.league.tr, data.entries.league.gxe, data.entries.league.rank, data.entries.league.bestrank,\n",
      "data.entries.league.apm, data.entries.league.pps, data.entries.league.vs, data.entries.league.decaying,\n",
      "data.entries.ar_counts.1, data.entries.ar_counts.2, data.entries.ar_counts.3, data.entries.ar_counts.4,\n",
      "data.entries.ar_counts.5, data.entries.ar_counts.100, data.entries.p.pri, data.entries.p.sec, data.entries.p.ter)`\n",
      "\u001b[1m\u001b[22mJoining with `by = join_by(success, data.entries._id, data.entries.username, data.entries.role, data.entries.xp,\n",
      "data.entries.supporter, data.entries.country, data.entries.ts, data.entries.gamesplayed, data.entries.gameswon,\n",
      "data.entries.gametime, data.entries.ar, cache.status, cache.cached_at, cache.cached_until,\n",
      "data.entries.league.gamesplayed, data.entries.league.gameswon, data.entries.league.glicko, data.entries.league.rd,\n",
      "data.entries.league.tr, data.entries.league.gxe, data.entries.league.rank, data.entries.league.bestrank,\n",
      "data.entries.league.apm, data.entries.league.pps, data.entries.league.vs, data.entries.league.decaying,\n",
      "data.entries.ar_counts.1, data.entries.ar_counts.2, data.entries.ar_counts.3, data.entries.ar_counts.4,\n",
      "data.entries.ar_counts.5, data.entries.p.pri, data.entries.p.sec, data.entries.p.ter)`\n",
      "\u001b[1m\u001b[22mJoining with `by = join_by(success, data.entries._id, data.entries.username, data.entries.role, data.entries.xp,\n",
      "data.entries.supporter, data.entries.country, data.entries.ts, data.entries.gamesplayed, data.entries.gameswon,\n",
      "data.entries.gametime, data.entries.ar, cache.status, cache.cached_at, cache.cached_until,\n",
      "data.entries.league.gamesplayed, data.entries.league.gameswon, data.entries.league.glicko, data.entries.league.rd,\n",
      "data.entries.league.tr, data.entries.league.gxe, data.entries.league.rank, data.entries.league.bestrank,\n",
      "data.entries.league.apm, data.entries.league.pps, data.entries.league.vs, data.entries.league.decaying,\n",
      "data.entries.ar_counts.1, data.entries.ar_counts.2, data.entries.ar_counts.3, data.entries.ar_counts.4,\n",
      "data.entries.ar_counts.5, data.entries.ar_counts.100, data.entries.p.pri, data.entries.p.sec, data.entries.p.ter)`\n",
      "\u001b[1m\u001b[22mJoining with `by = join_by(success, data.entries._id, data.entries.username, data.entries.role, data.entries.xp,\n",
      "data.entries.supporter, data.entries.country, data.entries.ts, data.entries.gamesplayed, data.entries.gameswon,\n",
      "data.entries.gametime, data.entries.ar, cache.status, cache.cached_at, cache.cached_until,\n",
      "data.entries.league.gamesplayed, data.entries.league.gameswon, data.entries.league.glicko, data.entries.league.rd,\n",
      "data.entries.league.tr, data.entries.league.gxe, data.entries.league.rank, data.entries.league.bestrank,\n",
      "data.entries.league.apm, data.entries.league.pps, data.entries.league.vs, data.entries.league.decaying,\n",
      "data.entries.ar_counts.1, data.entries.ar_counts.2, data.entries.ar_counts.3, data.entries.ar_counts.4,\n",
      "data.entries.ar_counts.5, data.entries.ar_counts.100, data.entries.p.pri, data.entries.p.sec, data.entries.p.ter)`\n",
      "\u001b[1m\u001b[22mJoining with `by = join_by(success, data.entries._id, data.entries.username, data.entries.role, data.entries.xp,\n",
      "data.entries.country, data.entries.ts, data.entries.gamesplayed, data.entries.gameswon, data.entries.gametime,\n",
      "data.entries.ar, cache.status, cache.cached_at, cache.cached_until, data.entries.league.gamesplayed,\n",
      "data.entries.league.gameswon, data.entries.league.glicko, data.entries.league.rd, data.entries.league.tr,\n",
      "data.entries.league.gxe, data.entries.league.rank, data.entries.league.bestrank, data.entries.league.apm,\n",
      "data.entries.league.pps, data.entries.league.vs, data.entries.league.decaying, data.entries.ar_counts.1,\n",
      "data.entries.ar_counts.2, data.entries.ar_counts.3, data.entries.p.pri, data.entries.p.sec, data.entries.p.ter)`\n"
     ]
    }
   ],
   "source": [
    "league_leaderboard <- get_league_leaderboard(\"CA\",UUID)"
   ]
  },
  {
   "cell_type": "code",
   "execution_count": 158,
   "id": "b9dc4963-d531-4391-b066-c20048c4c866",
   "metadata": {},
   "outputs": [
    {
     "data": {
      "text/html": [
       "1709"
      ],
      "text/latex": [
       "1709"
      ],
      "text/markdown": [
       "1709"
      ],
      "text/plain": [
       "[1] 1709"
      ]
     },
     "metadata": {},
     "output_type": "display_data"
    }
   ],
   "source": [
    "user_list <- league_leaderboard$data.entries.username"
   ]
  },
  {
   "cell_type": "code",
   "execution_count": 159,
   "id": "9df7c1a6-7936-449f-b7fc-24429c35d14d",
   "metadata": {},
   "outputs": [],
   "source": [
    "matches <- map(user_list, function(element) parse_user_matches(get_user_games_json(element,UUID))) %>%\n",
    "                bind_rows()"
   ]
  },
  {
   "cell_type": "code",
   "execution_count": null,
   "id": "20785a67-5c1d-4a80-b1f3-c835809df6ef",
   "metadata": {},
   "outputs": [],
   "source": [
    "UUID <- UUIDgenerate()"
   ]
  },
  {
   "cell_type": "code",
   "execution_count": 16,
   "id": "fd7bb6cd-a155-47dc-808c-0f316914506f",
   "metadata": {},
   "outputs": [
    {
     "data": {
      "image/png": "[encoded data removed]",
      "text/plain": [
       "plot without title"
      ]
     },
     "metadata": {
      "image/png": {
       "height": 420,
       "width": 420
      }
     },
     "output_type": "display_data"
    },
    {
     "data": {
      "image/png": "[encoded data removed]",
      "text/plain": [
       "plot without title"
      ]
     },
     "metadata": {
      "image/png": {
       "height": 420,
       "width": 420
      }
     },
     "output_type": "display_data"
    },
    {
     "data": {
      "image/png": "[encoded data removed]",
      "text/plain": [
       "plot without title"
      ]
     },
     "metadata": {
      "image/png": {
       "height": 420,
       "width": 420
      }
     },
     "output_type": "display_data"
    }
   ],
   "source": [
    "hp_data <- get_user_games_json(\"ploo\", UUID) %>%\n",
    "    parse_user_matches()\n",
    "\n",
    "\n",
    "ggplot(hp_data, aes( x = stats.vsscore_1, stats.vsscore_0, color = alive_1)) + geom_point()\n",
    "ggplot(hp_data, aes(stats.vsscore_1)) + geom_histogram(bins = 20)\n",
    "ggplot(hp_data, aes(x = (stats.garbagesent_1 - stats.garbagereceived_0)/\tlifetime_0 , y = (stats.garbagesent_0 - stats.garbagesent_1)/lifetime_0 , color = alive_1)) + geom_point()"
   ]
  },
  {
   "cell_type": "code",
   "execution_count": 175,
   "id": "5e8f21f5-e4b6-45f0-b8cf-d84e7bcde12a",
   "metadata": {},
   "outputs": [
    {
     "name": "stderr",
     "output_type": "stream",
     "text": [
      "Warning message:\n",
      "\"\u001b[1m\u001b[22mRemoved 28897 rows containing non-finite outside the scale range (`stat_density2d()`).\"\n"
     ]
    },
    {
     "data": {
      "image/png": "[encoded data removed]",
      "text/plain": [
       "plot without title"
      ]
     },
     "metadata": {
      "image/png": {
       "height": 420,
       "width": 420
      }
     },
     "output_type": "display_data"
    }
   ],
   "source": [
    "ggplot(matches, aes( x = stats.vsscore_1, stats.vsscore_0, group = alive_1)) +\n",
    "    # geom_point(alpha = 0.01)+\n",
    "    stat_density_2d(geom = \"polygon\",\n",
    "                  aes(alpha = ..level.., fill = alive_1),\n",
    "                  bins = 4)+ \n",
    "    ylim(0,200)+\n",
    "    xlim(0,200)"
   ]
  },
  {
   "cell_type": "code",
   "execution_count": 164,
   "id": "de215e1f-38b7-4c74-910f-d1067e298485",
   "metadata": {},
   "outputs": [],
   "source": [
    "write_csv(matches, \"matches.csv\")"
   ]
  },
  {
   "cell_type": "code",
   "execution_count": 170,
   "id": "7b1bf984-04a8-42e1-982d-77cbc5ed4ad8",
   "metadata": {},
   "outputs": [
    {
     "data": {
      "text/html": [
       "<style>\n",
       ".list-inline {list-style: none; margin:0; padding: 0}\n",
       ".list-inline>li {display: inline-block}\n",
       ".list-inline>li:not(:last-child)::after {content: \"\\00b7\"; padding: 0 .5ex}\n",
       "</style>\n",
       "<ol class=list-inline><li>'column_label'</li><li>'alive_1'</li><li>'alive_0'</li><li>'lifetime_1'</li><li>'lifetime_0'</li><li>'stats.apm_1'</li><li>'stats.apm_0'</li><li>'stats.pps_1'</li><li>'stats.pps_0'</li><li>'stats.vsscore_1'</li><li>'stats.vsscore_0'</li><li>'stats.garbagesent_1'</li><li>'stats.garbagesent_0'</li><li>'stats.garbagereceived_1'</li><li>'stats.garbagereceived_0'</li><li>'stats.kills_1'</li><li>'stats.kills_0'</li><li>'stats.btb_1'</li><li>'stats.btb_0'</li></ol>\n"
      ],
      "text/latex": [
       "\\begin{enumerate*}\n",
       "\\item 'column\\_label'\n",
       "\\item 'alive\\_1'\n",
       "\\item 'alive\\_0'\n",
       "\\item 'lifetime\\_1'\n",
       "\\item 'lifetime\\_0'\n",
       "\\item 'stats.apm\\_1'\n",
       "\\item 'stats.apm\\_0'\n",
       "\\item 'stats.pps\\_1'\n",
       "\\item 'stats.pps\\_0'\n",
       "\\item 'stats.vsscore\\_1'\n",
       "\\item 'stats.vsscore\\_0'\n",
       "\\item 'stats.garbagesent\\_1'\n",
       "\\item 'stats.garbagesent\\_0'\n",
       "\\item 'stats.garbagereceived\\_1'\n",
       "\\item 'stats.garbagereceived\\_0'\n",
       "\\item 'stats.kills\\_1'\n",
       "\\item 'stats.kills\\_0'\n",
       "\\item 'stats.btb\\_1'\n",
       "\\item 'stats.btb\\_0'\n",
       "\\end{enumerate*}\n"
      ],
      "text/markdown": [
       "1. 'column_label'\n",
       "2. 'alive_1'\n",
       "3. 'alive_0'\n",
       "4. 'lifetime_1'\n",
       "5. 'lifetime_0'\n",
       "6. 'stats.apm_1'\n",
       "7. 'stats.apm_0'\n",
       "8. 'stats.pps_1'\n",
       "9. 'stats.pps_0'\n",
       "10. 'stats.vsscore_1'\n",
       "11. 'stats.vsscore_0'\n",
       "12. 'stats.garbagesent_1'\n",
       "13. 'stats.garbagesent_0'\n",
       "14. 'stats.garbagereceived_1'\n",
       "15. 'stats.garbagereceived_0'\n",
       "16. 'stats.kills_1'\n",
       "17. 'stats.kills_0'\n",
       "18. 'stats.btb_1'\n",
       "19. 'stats.btb_0'\n",
       "\n",
       "\n"
      ],
      "text/plain": [
       " [1] \"column_label\"            \"alive_1\"                \n",
       " [3] \"alive_0\"                 \"lifetime_1\"             \n",
       " [5] \"lifetime_0\"              \"stats.apm_1\"            \n",
       " [7] \"stats.apm_0\"             \"stats.pps_1\"            \n",
       " [9] \"stats.pps_0\"             \"stats.vsscore_1\"        \n",
       "[11] \"stats.vsscore_0\"         \"stats.garbagesent_1\"    \n",
       "[13] \"stats.garbagesent_0\"     \"stats.garbagereceived_1\"\n",
       "[15] \"stats.garbagereceived_0\" \"stats.kills_1\"          \n",
       "[17] \"stats.kills_0\"           \"stats.btb_1\"            \n",
       "[19] \"stats.btb_0\"            "
      ]
     },
     "metadata": {},
     "output_type": "display_data"
    }
   ],
   "source": [
    "colnames(matches)"
   ]
  },
  {
   "cell_type": "code",
   "execution_count": 172,
   "id": "e3c57266-00e8-4c4f-9b9c-51ba4bd1e865",
   "metadata": {},
   "outputs": [
    {
     "ename": "ERROR",
     "evalue": "Error in ggpairs(matches, stats.apm_1:stats.vsscore_0): could not find function \"ggpairs\"\n",
     "output_type": "error",
     "traceback": [
      "Error in ggpairs(matches, stats.apm_1:stats.vsscore_0): could not find function \"ggpairs\"\nTraceback:\n"
     ]
    }
   ],
   "source": [
    "ggpairs(matches,stats.apm_1:stats.vsscore_0)"
   ]
  },
  {
   "cell_type": "code",
   "execution_count": null,
   "id": "993f1dff-1efe-4866-812c-b35fade6cae4",
   "metadata": {},
   "outputs": [],
   "source": []
  }
 ],
 "metadata": {
  "kernelspec": {
   "display_name": "R",
   "language": "R",
   "name": "ir"
  },
  "language_info": {
   "codemirror_mode": "r",
   "file_extension": ".r",
   "mimetype": "text/x-r-source",
   "name": "R",
   "pygments_lexer": "r",
   "version": "4.4.2"
  }
 },
 "nbformat": 4,
 "nbformat_minor": 5
}
