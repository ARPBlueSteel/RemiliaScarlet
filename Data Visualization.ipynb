{
 "cells": [
  {
   "cell_type": "code",
   "execution_count": 1,
   "id": "3f40cc1c-6ee6-46ae-a200-70290af6cdc0",
   "metadata": {},
   "outputs": [
    {
     "name": "stderr",
     "output_type": "stream",
     "text": [
      "── \u001b[1mAttaching core tidyverse packages\u001b[22m ──────────────────────────────────────────────────────────────── tidyverse 2.0.0 ──\n",
      "\u001b[32m✔\u001b[39m \u001b[34mdplyr    \u001b[39m 1.1.4     \u001b[32m✔\u001b[39m \u001b[34mreadr    \u001b[39m 2.1.5\n",
      "\u001b[32m✔\u001b[39m \u001b[34mforcats  \u001b[39m 1.0.0     \u001b[32m✔\u001b[39m \u001b[34mstringr  \u001b[39m 1.5.1\n",
      "\u001b[32m✔\u001b[39m \u001b[34mggplot2  \u001b[39m 3.5.1     \u001b[32m✔\u001b[39m \u001b[34mtibble   \u001b[39m 3.2.1\n",
      "\u001b[32m✔\u001b[39m \u001b[34mlubridate\u001b[39m 1.9.3     \u001b[32m✔\u001b[39m \u001b[34mtidyr    \u001b[39m 1.3.1\n",
      "\u001b[32m✔\u001b[39m \u001b[34mpurrr    \u001b[39m 1.0.2     \n",
      "── \u001b[1mConflicts\u001b[22m ────────────────────────────────────────────────────────────────────────────────── tidyverse_conflicts() ──\n",
      "\u001b[31m✖\u001b[39m \u001b[34mdplyr\u001b[39m::\u001b[32mfilter()\u001b[39m masks \u001b[34mstats\u001b[39m::filter()\n",
      "\u001b[31m✖\u001b[39m \u001b[34mdplyr\u001b[39m::\u001b[32mlag()\u001b[39m    masks \u001b[34mstats\u001b[39m::lag()\n",
      "\u001b[36mℹ\u001b[39m Use the conflicted package (\u001b[3m\u001b[34m<http://conflicted.r-lib.org/>\u001b[39m\u001b[23m) to force all conflicts to become errors\n",
      "\n",
      "Attaching package: 'jsonlite'\n",
      "\n",
      "\n",
      "The following object is masked from 'package:purrr':\n",
      "\n",
      "    flatten\n",
      "\n",
      "\n",
      "Warning message:\n",
      "\"package 'ggExtra' was built under R version 4.4.3\"\n"
     ]
    }
   ],
   "source": [
    "library(tidyverse)\n",
    "library(httr2) # for making api requests\n",
    "library(uuid)  # For generating a UUID\n",
    "library(jsonlite) # for working with JSONs\n",
    "library(ggExtra)\n"
   ]
  },
  {
   "cell_type": "code",
   "execution_count": 4,
   "id": "1c4339af-793b-44c7-963f-8d825f725296",
   "metadata": {},
   "outputs": [
    {
     "name": "stderr",
     "output_type": "stream",
     "text": [
      "\u001b[1mRows: \u001b[22m\u001b[34m230507\u001b[39m \u001b[1mColumns: \u001b[22m\u001b[34m19\u001b[39m\n",
      "\u001b[36m──\u001b[39m \u001b[1mColumn specification\u001b[22m \u001b[36m────────────────────────────────────────────────────────────────────────────────────────────────\u001b[39m\n",
      "\u001b[1mDelimiter:\u001b[22m \",\"\n",
      "\u001b[32mdbl\u001b[39m (17): column_label, lifetime_1, lifetime_0, stats.apm_1, stats.apm_0, st...\n",
      "\u001b[33mlgl\u001b[39m  (2): alive_1, alive_0\n",
      "\n",
      "\u001b[36mℹ\u001b[39m Use `spec()` to retrieve the full column specification for this data.\n",
      "\u001b[36mℹ\u001b[39m Specify the column types or set `show_col_types = FALSE` to quiet this message.\n"
     ]
    }
   ],
   "source": [
    "matches <- read_csv(\"sample_data/matches.csv\")"
   ]
  },
  {
   "cell_type": "code",
   "execution_count": 5,
   "id": "64d2065e-a531-4076-abfb-7f56f00688d6",
   "metadata": {},
   "outputs": [
    {
     "data": {
      "text/html": [
       "<table class=\"dataframe\">\n",
       "<caption>A tibble: 6 × 19</caption>\n",
       "<thead>\n",
       "\t<tr><th scope=col>column_label</th><th scope=col>alive_1</th><th scope=col>alive_0</th><th scope=col>lifetime_1</th><th scope=col>lifetime_0</th><th scope=col>stats.apm_1</th><th scope=col>stats.apm_0</th><th scope=col>stats.pps_1</th><th scope=col>stats.pps_0</th><th scope=col>stats.vsscore_1</th><th scope=col>stats.vsscore_0</th><th scope=col>stats.garbagesent_1</th><th scope=col>stats.garbagesent_0</th><th scope=col>stats.garbagereceived_1</th><th scope=col>stats.garbagereceived_0</th><th scope=col>stats.kills_1</th><th scope=col>stats.kills_0</th><th scope=col>stats.btb_1</th><th scope=col>stats.btb_0</th></tr>\n",
       "\t<tr><th scope=col>&lt;dbl&gt;</th><th scope=col>&lt;lgl&gt;</th><th scope=col>&lt;lgl&gt;</th><th scope=col>&lt;dbl&gt;</th><th scope=col>&lt;dbl&gt;</th><th scope=col>&lt;dbl&gt;</th><th scope=col>&lt;dbl&gt;</th><th scope=col>&lt;dbl&gt;</th><th scope=col>&lt;dbl&gt;</th><th scope=col>&lt;dbl&gt;</th><th scope=col>&lt;dbl&gt;</th><th scope=col>&lt;dbl&gt;</th><th scope=col>&lt;dbl&gt;</th><th scope=col>&lt;dbl&gt;</th><th scope=col>&lt;dbl&gt;</th><th scope=col>&lt;dbl&gt;</th><th scope=col>&lt;dbl&gt;</th><th scope=col>&lt;dbl&gt;</th><th scope=col>&lt;dbl&gt;</th></tr>\n",
       "</thead>\n",
       "<tbody>\n",
       "\t<tr><td>1</td><td> TRUE</td><td>FALSE</td><td>67224</td><td>67213</td><td>234.6852</td><td>211.1332</td><td>3.612839</td><td>3.891650</td><td>474.7450</td><td>444.3340</td><td>192</td><td>173</td><td>118</td><td>138</td><td>1</td><td>0</td><td>2</td><td>0</td></tr>\n",
       "\t<tr><td>2</td><td> TRUE</td><td>FALSE</td><td>11779</td><td>11776</td><td>198.5486</td><td>123.9598</td><td>3.047896</td><td>3.443329</td><td>400.5806</td><td>223.8164</td><td> 35</td><td> 14</td><td> 14</td><td> 35</td><td>1</td><td>0</td><td>7</td><td>0</td></tr>\n",
       "\t<tr><td>3</td><td>FALSE</td><td> TRUE</td><td>47962</td><td>47967</td><td>165.8060</td><td>178.4916</td><td>2.721563</td><td>3.833799</td><td>345.4292</td><td>379.1899</td><td> 98</td><td> 98</td><td> 85</td><td> 83</td><td>0</td><td>1</td><td>0</td><td>6</td></tr>\n",
       "\t<tr><td>4</td><td>FALSE</td><td> TRUE</td><td>38200</td><td>38210</td><td>175.2632</td><td>219.5700</td><td>3.236842</td><td>3.685827</td><td>373.6842</td><td>405.4410</td><td> 61</td><td>105</td><td> 99</td><td> 46</td><td>0</td><td>1</td><td>0</td><td>1</td></tr>\n",
       "\t<tr><td>5</td><td> TRUE</td><td>FALSE</td><td>24110</td><td>24106</td><td>166.8539</td><td>140.2923</td><td>3.370787</td><td>3.590814</td><td>303.3708</td><td>242.1712</td><td> 55</td><td> 40</td><td> 17</td><td> 32</td><td>1</td><td>0</td><td>0</td><td>5</td></tr>\n",
       "\t<tr><td>6</td><td> TRUE</td><td>FALSE</td><td>29947</td><td>29940</td><td>238.1166</td><td>161.3445</td><td>3.363229</td><td>3.731092</td><td>474.2152</td><td>356.3025</td><td> 96</td><td> 53</td><td> 41</td><td> 84</td><td>1</td><td>0</td><td>0</td><td>0</td></tr>\n",
       "</tbody>\n",
       "</table>\n"
      ],
      "text/latex": [
       "A tibble: 6 × 19\n",
       "\\begin{tabular}{lllllllllllllllllll}\n",
       " column\\_label & alive\\_1 & alive\\_0 & lifetime\\_1 & lifetime\\_0 & stats.apm\\_1 & stats.apm\\_0 & stats.pps\\_1 & stats.pps\\_0 & stats.vsscore\\_1 & stats.vsscore\\_0 & stats.garbagesent\\_1 & stats.garbagesent\\_0 & stats.garbagereceived\\_1 & stats.garbagereceived\\_0 & stats.kills\\_1 & stats.kills\\_0 & stats.btb\\_1 & stats.btb\\_0\\\\\n",
       " <dbl> & <lgl> & <lgl> & <dbl> & <dbl> & <dbl> & <dbl> & <dbl> & <dbl> & <dbl> & <dbl> & <dbl> & <dbl> & <dbl> & <dbl> & <dbl> & <dbl> & <dbl> & <dbl>\\\\\n",
       "\\hline\n",
       "\t 1 &  TRUE & FALSE & 67224 & 67213 & 234.6852 & 211.1332 & 3.612839 & 3.891650 & 474.7450 & 444.3340 & 192 & 173 & 118 & 138 & 1 & 0 & 2 & 0\\\\\n",
       "\t 2 &  TRUE & FALSE & 11779 & 11776 & 198.5486 & 123.9598 & 3.047896 & 3.443329 & 400.5806 & 223.8164 &  35 &  14 &  14 &  35 & 1 & 0 & 7 & 0\\\\\n",
       "\t 3 & FALSE &  TRUE & 47962 & 47967 & 165.8060 & 178.4916 & 2.721563 & 3.833799 & 345.4292 & 379.1899 &  98 &  98 &  85 &  83 & 0 & 1 & 0 & 6\\\\\n",
       "\t 4 & FALSE &  TRUE & 38200 & 38210 & 175.2632 & 219.5700 & 3.236842 & 3.685827 & 373.6842 & 405.4410 &  61 & 105 &  99 &  46 & 0 & 1 & 0 & 1\\\\\n",
       "\t 5 &  TRUE & FALSE & 24110 & 24106 & 166.8539 & 140.2923 & 3.370787 & 3.590814 & 303.3708 & 242.1712 &  55 &  40 &  17 &  32 & 1 & 0 & 0 & 5\\\\\n",
       "\t 6 &  TRUE & FALSE & 29947 & 29940 & 238.1166 & 161.3445 & 3.363229 & 3.731092 & 474.2152 & 356.3025 &  96 &  53 &  41 &  84 & 1 & 0 & 0 & 0\\\\\n",
       "\\end{tabular}\n"
      ],
      "text/markdown": [
       "\n",
       "A tibble: 6 × 19\n",
       "\n",
       "| column_label &lt;dbl&gt; | alive_1 &lt;lgl&gt; | alive_0 &lt;lgl&gt; | lifetime_1 &lt;dbl&gt; | lifetime_0 &lt;dbl&gt; | stats.apm_1 &lt;dbl&gt; | stats.apm_0 &lt;dbl&gt; | stats.pps_1 &lt;dbl&gt; | stats.pps_0 &lt;dbl&gt; | stats.vsscore_1 &lt;dbl&gt; | stats.vsscore_0 &lt;dbl&gt; | stats.garbagesent_1 &lt;dbl&gt; | stats.garbagesent_0 &lt;dbl&gt; | stats.garbagereceived_1 &lt;dbl&gt; | stats.garbagereceived_0 &lt;dbl&gt; | stats.kills_1 &lt;dbl&gt; | stats.kills_0 &lt;dbl&gt; | stats.btb_1 &lt;dbl&gt; | stats.btb_0 &lt;dbl&gt; |\n",
       "|---|---|---|---|---|---|---|---|---|---|---|---|---|---|---|---|---|---|---|\n",
       "| 1 |  TRUE | FALSE | 67224 | 67213 | 234.6852 | 211.1332 | 3.612839 | 3.891650 | 474.7450 | 444.3340 | 192 | 173 | 118 | 138 | 1 | 0 | 2 | 0 |\n",
       "| 2 |  TRUE | FALSE | 11779 | 11776 | 198.5486 | 123.9598 | 3.047896 | 3.443329 | 400.5806 | 223.8164 |  35 |  14 |  14 |  35 | 1 | 0 | 7 | 0 |\n",
       "| 3 | FALSE |  TRUE | 47962 | 47967 | 165.8060 | 178.4916 | 2.721563 | 3.833799 | 345.4292 | 379.1899 |  98 |  98 |  85 |  83 | 0 | 1 | 0 | 6 |\n",
       "| 4 | FALSE |  TRUE | 38200 | 38210 | 175.2632 | 219.5700 | 3.236842 | 3.685827 | 373.6842 | 405.4410 |  61 | 105 |  99 |  46 | 0 | 1 | 0 | 1 |\n",
       "| 5 |  TRUE | FALSE | 24110 | 24106 | 166.8539 | 140.2923 | 3.370787 | 3.590814 | 303.3708 | 242.1712 |  55 |  40 |  17 |  32 | 1 | 0 | 0 | 5 |\n",
       "| 6 |  TRUE | FALSE | 29947 | 29940 | 238.1166 | 161.3445 | 3.363229 | 3.731092 | 474.2152 | 356.3025 |  96 |  53 |  41 |  84 | 1 | 0 | 0 | 0 |\n",
       "\n"
      ],
      "text/plain": [
       "  column_label alive_1 alive_0 lifetime_1 lifetime_0 stats.apm_1 stats.apm_0\n",
       "1 1             TRUE   FALSE   67224      67213      234.6852    211.1332   \n",
       "2 2             TRUE   FALSE   11779      11776      198.5486    123.9598   \n",
       "3 3            FALSE    TRUE   47962      47967      165.8060    178.4916   \n",
       "4 4            FALSE    TRUE   38200      38210      175.2632    219.5700   \n",
       "5 5             TRUE   FALSE   24110      24106      166.8539    140.2923   \n",
       "6 6             TRUE   FALSE   29947      29940      238.1166    161.3445   \n",
       "  stats.pps_1 stats.pps_0 stats.vsscore_1 stats.vsscore_0 stats.garbagesent_1\n",
       "1 3.612839    3.891650    474.7450        444.3340        192                \n",
       "2 3.047896    3.443329    400.5806        223.8164         35                \n",
       "3 2.721563    3.833799    345.4292        379.1899         98                \n",
       "4 3.236842    3.685827    373.6842        405.4410         61                \n",
       "5 3.370787    3.590814    303.3708        242.1712         55                \n",
       "6 3.363229    3.731092    474.2152        356.3025         96                \n",
       "  stats.garbagesent_0 stats.garbagereceived_1 stats.garbagereceived_0\n",
       "1 173                 118                     138                    \n",
       "2  14                  14                      35                    \n",
       "3  98                  85                      83                    \n",
       "4 105                  99                      46                    \n",
       "5  40                  17                      32                    \n",
       "6  53                  41                      84                    \n",
       "  stats.kills_1 stats.kills_0 stats.btb_1 stats.btb_0\n",
       "1 1             0             2           0          \n",
       "2 1             0             7           0          \n",
       "3 0             1             0           6          \n",
       "4 0             1             0           1          \n",
       "5 1             0             0           5          \n",
       "6 1             0             0           0          "
      ]
     },
     "metadata": {},
     "output_type": "display_data"
    }
   ],
   "source": [
    "head(matches)"
   ]
  },
  {
   "cell_type": "code",
   "execution_count": 18,
   "id": "8331b8bc-e46b-4a5c-b1f0-5d3da2f0efc6",
   "metadata": {},
   "outputs": [
    {
     "name": "stderr",
     "output_type": "stream",
     "text": [
      "Warning message:\n",
      "\"\u001b[1m\u001b[22mRemoved 168 rows containing missing values or values outside the scale range (`geom_point()`).\"\n"
     ]
    },
    {
     "data": {
      "image/png": "[encoded data removed]",
      "text/plain": [
       "plot without title"
      ]
     },
     "metadata": {
      "image/png": {
       "height": 420,
       "width": 420
      }
     },
     "output_type": "display_data"
    }
   ],
   "source": [
    "b2b_compare <- matches %>%\n",
    "    ggplot(aes(x = (stats.garbagesent_1 - stats.garbagereceived_0)/\tlifetime_0 , y = (stats.garbagesent_0 - stats.garbagesent_1)/lifetime_0 , color = alive_1)) +\n",
    "    geom_point()\n",
    "b2b_compare"
   ]
  },
  {
   "cell_type": "code",
   "execution_count": null,
   "id": "67601aad-d266-474d-9185-d9abb322884c",
   "metadata": {},
   "outputs": [],
   "source": []
  }
 ],
 "metadata": {
  "kernelspec": {
   "display_name": "R",
   "language": "R",
   "name": "ir"
  },
  "language_info": {
   "codemirror_mode": "r",
   "file_extension": ".r",
   "mimetype": "text/x-r-source",
   "name": "R",
   "pygments_lexer": "r",
   "version": "4.4.2"
  }
 },
 "nbformat": 4,
 "nbformat_minor": 5
}
