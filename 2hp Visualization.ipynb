{
 "cells": [
  {
   "cell_type": "code",
   "execution_count": 5,
   "id": "74a2c605-354f-4020-8ba8-7277d6b59f9f",
   "metadata": {},
   "outputs": [],
   "source": [
    "library(tidyverse)\n",
    "library(httr2)\n",
    "library(jsonlite)"
   ]
  },
  {
   "cell_type": "code",
   "execution_count": 7,
   "id": "96386438-81e0-49bb-b363-62e4b443bc06",
   "metadata": {},
   "outputs": [],
   "source": [
    "player_url <- \"https://ch.tetr.io/api/users/2hp/records/league/recent\""
   ]
  },
  {
   "cell_type": "code",
   "execution_count": 39,
   "id": "3fd37d85-426b-47e7-bab5-e401ce47b8c6",
   "metadata": {},
   "outputs": [],
   "source": [
    "req <- request(player_url)\n",
    "resp <- req |> req_perform()\n",
    "resp_json <- resp |> resp_body_string()"
   ]
  },
  {
   "cell_type": "code",
   "execution_count": 401,
   "id": "d104e890-85ea-4a82-ab6e-eca8fff6ebe1",
   "metadata": {
    "editable": true,
    "slideshow": {
     "slide_type": ""
    },
    "tags": []
   },
   "outputs": [],
   "source": [
    "json_data <- fromJSON(resp_json)\n",
    "json_data_frame <- as.data.frame(json_data)|>\n",
    "        flatten()|>\n",
    "        select('data.entries._id','data.entries.replayid','data.entries.results.leaderboard','data.entries.extras.result')|>\n",
    "        unnest(data.entries.results.leaderboard)|>\n",
    "        unnest(stats)|>\n",
    "        select(!c(shadows,shadowedBy,data.entries.replayid,id))|>\n",
    "        mutate( player = ifelse(username == \"2hp\", \"player0\", \"player1\"))|>\n",
    "        pivot_wider(id_cols = data.entries._id,\n",
    "                     names_from = player,\n",
    "                     values_from = username:data.entries.extras.result) \n",
    "        "
   ]
  },
  {
   "cell_type": "code",
   "execution_count": 402,
   "id": "b0bd6ac0-92bb-4499-a178-98d01ee755b3",
   "metadata": {},
   "outputs": [
    {
     "data": {
      "text/html": [
       "<style>\n",
       ".list-inline {list-style: none; margin:0; padding: 0}\n",
       ".list-inline>li {display: inline-block}\n",
       ".list-inline>li:not(:last-child)::after {content: \"\\00b7\"; padding: 0 .5ex}\n",
       "</style>\n",
       "<ol class=list-inline><li>'data.entries._id'</li><li>'username_player1'</li><li>'username_player0'</li><li>'active_player1'</li><li>'active_player0'</li><li>'naturalorder_player1'</li><li>'naturalorder_player0'</li><li>'wins_player1'</li><li>'wins_player0'</li><li>'apm_player1'</li><li>'apm_player0'</li><li>'pps_player1'</li><li>'pps_player0'</li><li>'vsscore_player1'</li><li>'vsscore_player0'</li><li>'garbagesent_player1'</li><li>'garbagesent_player0'</li><li>'garbagereceived_player1'</li><li>'garbagereceived_player0'</li><li>'kills_player1'</li><li>'kills_player0'</li><li>'altitude_player1'</li><li>'altitude_player0'</li><li>'rank_player1'</li><li>'rank_player0'</li><li>'targetingfactor_player1'</li><li>'targetingfactor_player0'</li><li>'targetinggrace_player1'</li><li>'targetinggrace_player0'</li><li>'btb_player1'</li><li>'btb_player0'</li><li>'revives_player1'</li><li>'revives_player0'</li><li>'data.entries.extras.result_player1'</li><li>'data.entries.extras.result_player0'</li></ol>\n"
      ],
      "text/latex": [
       "\\begin{enumerate*}\n",
       "\\item 'data.entries.\\_id'\n",
       "\\item 'username\\_player1'\n",
       "\\item 'username\\_player0'\n",
       "\\item 'active\\_player1'\n",
       "\\item 'active\\_player0'\n",
       "\\item 'naturalorder\\_player1'\n",
       "\\item 'naturalorder\\_player0'\n",
       "\\item 'wins\\_player1'\n",
       "\\item 'wins\\_player0'\n",
       "\\item 'apm\\_player1'\n",
       "\\item 'apm\\_player0'\n",
       "\\item 'pps\\_player1'\n",
       "\\item 'pps\\_player0'\n",
       "\\item 'vsscore\\_player1'\n",
       "\\item 'vsscore\\_player0'\n",
       "\\item 'garbagesent\\_player1'\n",
       "\\item 'garbagesent\\_player0'\n",
       "\\item 'garbagereceived\\_player1'\n",
       "\\item 'garbagereceived\\_player0'\n",
       "\\item 'kills\\_player1'\n",
       "\\item 'kills\\_player0'\n",
       "\\item 'altitude\\_player1'\n",
       "\\item 'altitude\\_player0'\n",
       "\\item 'rank\\_player1'\n",
       "\\item 'rank\\_player0'\n",
       "\\item 'targetingfactor\\_player1'\n",
       "\\item 'targetingfactor\\_player0'\n",
       "\\item 'targetinggrace\\_player1'\n",
       "\\item 'targetinggrace\\_player0'\n",
       "\\item 'btb\\_player1'\n",
       "\\item 'btb\\_player0'\n",
       "\\item 'revives\\_player1'\n",
       "\\item 'revives\\_player0'\n",
       "\\item 'data.entries.extras.result\\_player1'\n",
       "\\item 'data.entries.extras.result\\_player0'\n",
       "\\end{enumerate*}\n"
      ],
      "text/markdown": [
       "1. 'data.entries._id'\n",
       "2. 'username_player1'\n",
       "3. 'username_player0'\n",
       "4. 'active_player1'\n",
       "5. 'active_player0'\n",
       "6. 'naturalorder_player1'\n",
       "7. 'naturalorder_player0'\n",
       "8. 'wins_player1'\n",
       "9. 'wins_player0'\n",
       "10. 'apm_player1'\n",
       "11. 'apm_player0'\n",
       "12. 'pps_player1'\n",
       "13. 'pps_player0'\n",
       "14. 'vsscore_player1'\n",
       "15. 'vsscore_player0'\n",
       "16. 'garbagesent_player1'\n",
       "17. 'garbagesent_player0'\n",
       "18. 'garbagereceived_player1'\n",
       "19. 'garbagereceived_player0'\n",
       "20. 'kills_player1'\n",
       "21. 'kills_player0'\n",
       "22. 'altitude_player1'\n",
       "23. 'altitude_player0'\n",
       "24. 'rank_player1'\n",
       "25. 'rank_player0'\n",
       "26. 'targetingfactor_player1'\n",
       "27. 'targetingfactor_player0'\n",
       "28. 'targetinggrace_player1'\n",
       "29. 'targetinggrace_player0'\n",
       "30. 'btb_player1'\n",
       "31. 'btb_player0'\n",
       "32. 'revives_player1'\n",
       "33. 'revives_player0'\n",
       "34. 'data.entries.extras.result_player1'\n",
       "35. 'data.entries.extras.result_player0'\n",
       "\n",
       "\n"
      ],
      "text/plain": [
       " [1] \"data.entries._id\"                   \"username_player1\"                  \n",
       " [3] \"username_player0\"                   \"active_player1\"                    \n",
       " [5] \"active_player0\"                     \"naturalorder_player1\"              \n",
       " [7] \"naturalorder_player0\"               \"wins_player1\"                      \n",
       " [9] \"wins_player0\"                       \"apm_player1\"                       \n",
       "[11] \"apm_player0\"                        \"pps_player1\"                       \n",
       "[13] \"pps_player0\"                        \"vsscore_player1\"                   \n",
       "[15] \"vsscore_player0\"                    \"garbagesent_player1\"               \n",
       "[17] \"garbagesent_player0\"                \"garbagereceived_player1\"           \n",
       "[19] \"garbagereceived_player0\"            \"kills_player1\"                     \n",
       "[21] \"kills_player0\"                      \"altitude_player1\"                  \n",
       "[23] \"altitude_player0\"                   \"rank_player1\"                      \n",
       "[25] \"rank_player0\"                       \"targetingfactor_player1\"           \n",
       "[27] \"targetingfactor_player0\"            \"targetinggrace_player1\"            \n",
       "[29] \"targetinggrace_player0\"             \"btb_player1\"                       \n",
       "[31] \"btb_player0\"                        \"revives_player1\"                   \n",
       "[33] \"revives_player0\"                    \"data.entries.extras.result_player1\"\n",
       "[35] \"data.entries.extras.result_player0\""
      ]
     },
     "metadata": {},
     "output_type": "display_data"
    }
   ],
   "source": [
    "colnames(json_data_frame)"
   ]
  },
  {
   "cell_type": "code",
   "execution_count": 405,
   "id": "f67277cf-846b-4132-aa58-871d6594010e",
   "metadata": {},
   "outputs": [
    {
     "data": {
      "text/html": [
       "<table class=\"dataframe\">\n",
       "<caption>A tibble: 6 × 35</caption>\n",
       "<thead>\n",
       "\t<tr><th scope=col>data.entries._id</th><th scope=col>username_player1</th><th scope=col>username_player0</th><th scope=col>active_player1</th><th scope=col>active_player0</th><th scope=col>naturalorder_player1</th><th scope=col>naturalorder_player0</th><th scope=col>wins_player1</th><th scope=col>wins_player0</th><th scope=col>apm_player1</th><th scope=col>⋯</th><th scope=col>targetingfactor_player1</th><th scope=col>targetingfactor_player0</th><th scope=col>targetinggrace_player1</th><th scope=col>targetinggrace_player0</th><th scope=col>btb_player1</th><th scope=col>btb_player0</th><th scope=col>revives_player1</th><th scope=col>revives_player0</th><th scope=col>data.entries.extras.result_player1</th><th scope=col>data.entries.extras.result_player0</th></tr>\n",
       "\t<tr><th scope=col>&lt;chr&gt;</th><th scope=col>&lt;chr&gt;</th><th scope=col>&lt;chr&gt;</th><th scope=col>&lt;lgl&gt;</th><th scope=col>&lt;lgl&gt;</th><th scope=col>&lt;int&gt;</th><th scope=col>&lt;int&gt;</th><th scope=col>&lt;int&gt;</th><th scope=col>&lt;int&gt;</th><th scope=col>&lt;dbl&gt;</th><th scope=col>⋯</th><th scope=col>&lt;int&gt;</th><th scope=col>&lt;int&gt;</th><th scope=col>&lt;int&gt;</th><th scope=col>&lt;int&gt;</th><th scope=col>&lt;int&gt;</th><th scope=col>&lt;int&gt;</th><th scope=col>&lt;int&gt;</th><th scope=col>&lt;int&gt;</th><th scope=col>&lt;chr&gt;</th><th scope=col>&lt;chr&gt;</th></tr>\n",
       "</thead>\n",
       "<tbody>\n",
       "\t<tr><td>67b1435c8eb697a6949b479f</td><td>yu00231         </td><td>2hp</td><td>TRUE</td><td>TRUE</td><td>1</td><td>0</td><td>7</td><td>3</td><td>78.99575</td><td>⋯</td><td>30</td><td>30</td><td>0</td><td>0</td><td>16</td><td>11</td><td>0</td><td>0</td><td>defeat </td><td>defeat </td></tr>\n",
       "\t<tr><td>67b1405e9e066c8f8b1bc730</td><td>x250            </td><td>2hp</td><td>TRUE</td><td>TRUE</td><td>0</td><td>1</td><td>1</td><td>5</td><td>76.96140</td><td>⋯</td><td>18</td><td>18</td><td>0</td><td>0</td><td> 0</td><td>10</td><td>0</td><td>0</td><td>victory</td><td>victory</td></tr>\n",
       "\t<tr><td>67b13ec9be4c79cddfeaedd8</td><td>fireballstarfish</td><td>2hp</td><td>TRUE</td><td>TRUE</td><td>0</td><td>1</td><td>0</td><td>5</td><td>65.32488</td><td>⋯</td><td>15</td><td>15</td><td>0</td><td>0</td><td> 0</td><td>10</td><td>0</td><td>0</td><td>victory</td><td>victory</td></tr>\n",
       "\t<tr><td>67afcdd7a1fd42fda774fdcd</td><td>pludee          </td><td>2hp</td><td>TRUE</td><td>TRUE</td><td>1</td><td>0</td><td>6</td><td>7</td><td>75.52029</td><td>⋯</td><td>39</td><td>39</td><td>0</td><td>0</td><td>11</td><td>16</td><td>0</td><td>0</td><td>victory</td><td>victory</td></tr>\n",
       "\t<tr><td>67afc9d19cc25eb463ef0162</td><td>redstackerred   </td><td>2hp</td><td>TRUE</td><td>TRUE</td><td>1</td><td>0</td><td>7</td><td>5</td><td>84.36730</td><td>⋯</td><td>36</td><td>36</td><td>0</td><td>0</td><td>26</td><td> 3</td><td>0</td><td>0</td><td>defeat </td><td>defeat </td></tr>\n",
       "\t<tr><td>67afc681a0e90cd73f2ba82e</td><td>eponym          </td><td>2hp</td><td>TRUE</td><td>TRUE</td><td>0</td><td>1</td><td>5</td><td>3</td><td>82.94476</td><td>⋯</td><td>24</td><td>24</td><td>0</td><td>0</td><td> 6</td><td> 5</td><td>0</td><td>0</td><td>defeat </td><td>defeat </td></tr>\n",
       "</tbody>\n",
       "</table>\n"
      ],
      "text/latex": [
       "A tibble: 6 × 35\n",
       "\\begin{tabular}{lllllllllllllllllllll}\n",
       " data.entries.\\_id & username\\_player1 & username\\_player0 & active\\_player1 & active\\_player0 & naturalorder\\_player1 & naturalorder\\_player0 & wins\\_player1 & wins\\_player0 & apm\\_player1 & ⋯ & targetingfactor\\_player1 & targetingfactor\\_player0 & targetinggrace\\_player1 & targetinggrace\\_player0 & btb\\_player1 & btb\\_player0 & revives\\_player1 & revives\\_player0 & data.entries.extras.result\\_player1 & data.entries.extras.result\\_player0\\\\\n",
       " <chr> & <chr> & <chr> & <lgl> & <lgl> & <int> & <int> & <int> & <int> & <dbl> & ⋯ & <int> & <int> & <int> & <int> & <int> & <int> & <int> & <int> & <chr> & <chr>\\\\\n",
       "\\hline\n",
       "\t 67b1435c8eb697a6949b479f & yu00231          & 2hp & TRUE & TRUE & 1 & 0 & 7 & 3 & 78.99575 & ⋯ & 30 & 30 & 0 & 0 & 16 & 11 & 0 & 0 & defeat  & defeat \\\\\n",
       "\t 67b1405e9e066c8f8b1bc730 & x250             & 2hp & TRUE & TRUE & 0 & 1 & 1 & 5 & 76.96140 & ⋯ & 18 & 18 & 0 & 0 &  0 & 10 & 0 & 0 & victory & victory\\\\\n",
       "\t 67b13ec9be4c79cddfeaedd8 & fireballstarfish & 2hp & TRUE & TRUE & 0 & 1 & 0 & 5 & 65.32488 & ⋯ & 15 & 15 & 0 & 0 &  0 & 10 & 0 & 0 & victory & victory\\\\\n",
       "\t 67afcdd7a1fd42fda774fdcd & pludee           & 2hp & TRUE & TRUE & 1 & 0 & 6 & 7 & 75.52029 & ⋯ & 39 & 39 & 0 & 0 & 11 & 16 & 0 & 0 & victory & victory\\\\\n",
       "\t 67afc9d19cc25eb463ef0162 & redstackerred    & 2hp & TRUE & TRUE & 1 & 0 & 7 & 5 & 84.36730 & ⋯ & 36 & 36 & 0 & 0 & 26 &  3 & 0 & 0 & defeat  & defeat \\\\\n",
       "\t 67afc681a0e90cd73f2ba82e & eponym           & 2hp & TRUE & TRUE & 0 & 1 & 5 & 3 & 82.94476 & ⋯ & 24 & 24 & 0 & 0 &  6 &  5 & 0 & 0 & defeat  & defeat \\\\\n",
       "\\end{tabular}\n"
      ],
      "text/markdown": [
       "\n",
       "A tibble: 6 × 35\n",
       "\n",
       "| data.entries._id &lt;chr&gt; | username_player1 &lt;chr&gt; | username_player0 &lt;chr&gt; | active_player1 &lt;lgl&gt; | active_player0 &lt;lgl&gt; | naturalorder_player1 &lt;int&gt; | naturalorder_player0 &lt;int&gt; | wins_player1 &lt;int&gt; | wins_player0 &lt;int&gt; | apm_player1 &lt;dbl&gt; | ⋯ ⋯ | targetingfactor_player1 &lt;int&gt; | targetingfactor_player0 &lt;int&gt; | targetinggrace_player1 &lt;int&gt; | targetinggrace_player0 &lt;int&gt; | btb_player1 &lt;int&gt; | btb_player0 &lt;int&gt; | revives_player1 &lt;int&gt; | revives_player0 &lt;int&gt; | data.entries.extras.result_player1 &lt;chr&gt; | data.entries.extras.result_player0 &lt;chr&gt; |\n",
       "|---|---|---|---|---|---|---|---|---|---|---|---|---|---|---|---|---|---|---|---|---|\n",
       "| 67b1435c8eb697a6949b479f | yu00231          | 2hp | TRUE | TRUE | 1 | 0 | 7 | 3 | 78.99575 | ⋯ | 30 | 30 | 0 | 0 | 16 | 11 | 0 | 0 | defeat  | defeat  |\n",
       "| 67b1405e9e066c8f8b1bc730 | x250             | 2hp | TRUE | TRUE | 0 | 1 | 1 | 5 | 76.96140 | ⋯ | 18 | 18 | 0 | 0 |  0 | 10 | 0 | 0 | victory | victory |\n",
       "| 67b13ec9be4c79cddfeaedd8 | fireballstarfish | 2hp | TRUE | TRUE | 0 | 1 | 0 | 5 | 65.32488 | ⋯ | 15 | 15 | 0 | 0 |  0 | 10 | 0 | 0 | victory | victory |\n",
       "| 67afcdd7a1fd42fda774fdcd | pludee           | 2hp | TRUE | TRUE | 1 | 0 | 6 | 7 | 75.52029 | ⋯ | 39 | 39 | 0 | 0 | 11 | 16 | 0 | 0 | victory | victory |\n",
       "| 67afc9d19cc25eb463ef0162 | redstackerred    | 2hp | TRUE | TRUE | 1 | 0 | 7 | 5 | 84.36730 | ⋯ | 36 | 36 | 0 | 0 | 26 |  3 | 0 | 0 | defeat  | defeat  |\n",
       "| 67afc681a0e90cd73f2ba82e | eponym           | 2hp | TRUE | TRUE | 0 | 1 | 5 | 3 | 82.94476 | ⋯ | 24 | 24 | 0 | 0 |  6 |  5 | 0 | 0 | defeat  | defeat  |\n",
       "\n"
      ],
      "text/plain": [
       "  data.entries._id         username_player1 username_player0 active_player1\n",
       "1 67b1435c8eb697a6949b479f yu00231          2hp              TRUE          \n",
       "2 67b1405e9e066c8f8b1bc730 x250             2hp              TRUE          \n",
       "3 67b13ec9be4c79cddfeaedd8 fireballstarfish 2hp              TRUE          \n",
       "4 67afcdd7a1fd42fda774fdcd pludee           2hp              TRUE          \n",
       "5 67afc9d19cc25eb463ef0162 redstackerred    2hp              TRUE          \n",
       "6 67afc681a0e90cd73f2ba82e eponym           2hp              TRUE          \n",
       "  active_player0 naturalorder_player1 naturalorder_player0 wins_player1\n",
       "1 TRUE           1                    0                    7           \n",
       "2 TRUE           0                    1                    1           \n",
       "3 TRUE           0                    1                    0           \n",
       "4 TRUE           1                    0                    6           \n",
       "5 TRUE           1                    0                    7           \n",
       "6 TRUE           0                    1                    5           \n",
       "  wins_player0 apm_player1 ⋯ targetingfactor_player1 targetingfactor_player0\n",
       "1 3            78.99575    ⋯ 30                      30                     \n",
       "2 5            76.96140    ⋯ 18                      18                     \n",
       "3 5            65.32488    ⋯ 15                      15                     \n",
       "4 7            75.52029    ⋯ 39                      39                     \n",
       "5 5            84.36730    ⋯ 36                      36                     \n",
       "6 3            82.94476    ⋯ 24                      24                     \n",
       "  targetinggrace_player1 targetinggrace_player0 btb_player1 btb_player0\n",
       "1 0                      0                      16          11         \n",
       "2 0                      0                       0          10         \n",
       "3 0                      0                       0          10         \n",
       "4 0                      0                      11          16         \n",
       "5 0                      0                      26           3         \n",
       "6 0                      0                       6           5         \n",
       "  revives_player1 revives_player0 data.entries.extras.result_player1\n",
       "1 0               0               defeat                            \n",
       "2 0               0               victory                           \n",
       "3 0               0               victory                           \n",
       "4 0               0               victory                           \n",
       "5 0               0               defeat                            \n",
       "6 0               0               defeat                            \n",
       "  data.entries.extras.result_player0\n",
       "1 defeat                            \n",
       "2 victory                           \n",
       "3 victory                           \n",
       "4 victory                           \n",
       "5 defeat                            \n",
       "6 defeat                            "
      ]
     },
     "metadata": {},
     "output_type": "display_data"
    }
   ],
   "source": [
    "important_stats_data_frame <- json_data_frame|>\n",
    "    "
   ]
  },
  {
   "cell_type": "code",
   "execution_count": 410,
   "id": "b86cd596-6579-45d2-ad44-860213699e05",
   "metadata": {},
   "outputs": [
    {
     "data": {
      "image/png": "[encoded data removed]",
      "text/plain": [
       "plot without title"
      ]
     },
     "metadata": {
      "image/png": {
       "height": 420,
       "width": 420
      }
     },
     "output_type": "display_data"
    }
   ],
   "source": [
    "ggplot( json_data_frame, aes(x = vsscore_player0, y = vsscore_player1, color = \tdata.entries.extras.result_player1))+\n",
    "geom_point()"
   ]
  },
  {
   "cell_type": "code",
   "execution_count": null,
   "id": "f7ae29cd-d532-452c-86ed-e866c84c41b5",
   "metadata": {},
   "outputs": [],
   "source": []
  }
 ],
 "metadata": {
  "kernelspec": {
   "display_name": "R",
   "language": "R",
   "name": "ir"
  },
  "language_info": {
   "codemirror_mode": "r",
   "file_extension": ".r",
   "mimetype": "text/x-r-source",
   "name": "R",
   "pygments_lexer": "r",
   "version": "4.4.2"
  }
 },
 "nbformat": 4,
 "nbformat_minor": 5
}
