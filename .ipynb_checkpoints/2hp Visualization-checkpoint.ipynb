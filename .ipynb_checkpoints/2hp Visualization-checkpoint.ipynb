{
 "cells": [
  {
   "cell_type": "markdown",
   "id": "d1084922-9d38-47bf-8f14-860447f40811",
   "metadata": {},
   "source": [
    "# Packages and Initialization"
   ]
  },
  {
   "cell_type": "code",
   "execution_count": 1,
   "id": "74a2c605-354f-4020-8ba8-7277d6b59f9f",
   "metadata": {},
   "outputs": [
    {
     "name": "stderr",
     "output_type": "stream",
     "text": [
      "── \u001b[1mAttaching core tidyverse packages\u001b[22m ──────────────────────────────────────────────────────────────── tidyverse 2.0.0 ──\n",
      "\u001b[32m✔\u001b[39m \u001b[34mdplyr    \u001b[39m 1.1.4     \u001b[32m✔\u001b[39m \u001b[34mreadr    \u001b[39m 2.1.5\n",
      "\u001b[32m✔\u001b[39m \u001b[34mforcats  \u001b[39m 1.0.0     \u001b[32m✔\u001b[39m \u001b[34mstringr  \u001b[39m 1.5.1\n",
      "\u001b[32m✔\u001b[39m \u001b[34mggplot2  \u001b[39m 3.5.1     \u001b[32m✔\u001b[39m \u001b[34mtibble   \u001b[39m 3.2.1\n",
      "\u001b[32m✔\u001b[39m \u001b[34mlubridate\u001b[39m 1.9.3     \u001b[32m✔\u001b[39m \u001b[34mtidyr    \u001b[39m 1.3.1\n",
      "\u001b[32m✔\u001b[39m \u001b[34mpurrr    \u001b[39m 1.0.2     \n",
      "── \u001b[1mConflicts\u001b[22m ────────────────────────────────────────────────────────────────────────────────── tidyverse_conflicts() ──\n",
      "\u001b[31m✖\u001b[39m \u001b[34mdplyr\u001b[39m::\u001b[32mfilter()\u001b[39m masks \u001b[34mstats\u001b[39m::filter()\n",
      "\u001b[31m✖\u001b[39m \u001b[34mdplyr\u001b[39m::\u001b[32mlag()\u001b[39m    masks \u001b[34mstats\u001b[39m::lag()\n",
      "\u001b[36mℹ\u001b[39m Use the conflicted package (\u001b[3m\u001b[34m<http://conflicted.r-lib.org/>\u001b[39m\u001b[23m) to force all conflicts to become errors\n",
      "\n",
      "Attaching package: 'jsonlite'\n",
      "\n",
      "\n",
      "The following object is masked from 'package:purrr':\n",
      "\n",
      "    flatten\n",
      "\n",
      "\n"
     ]
    }
   ],
   "source": [
    "library(tidyverse)\n",
    "library(httr2) # for making api requests\n",
    "library(jsonlite) # for making"
   ]
  },
  {
   "cell_type": "markdown",
   "id": "af0c5d3d-f39c-44c3-864c-c07eeabe69d5",
   "metadata": {},
   "source": [
    "# Loading Data"
   ]
  },
  {
   "cell_type": "code",
   "execution_count": 20,
   "id": "96386438-81e0-49bb-b363-62e4b443bc06",
   "metadata": {},
   "outputs": [],
   "source": [
    "player_url <- \"https://ch.tetr.io/api/users/2hp/records/league/recent\""
   ]
  },
  {
   "cell_type": "code",
   "execution_count": 21,
   "id": "3fd37d85-426b-47e7-bab5-e401ce47b8c6",
   "metadata": {},
   "outputs": [],
   "source": [
    "req <- request(player_url)|>\n",
    "    req_user_agent(\"RemiliaScarlet\")|>\n",
    "    req_throttle( rate = 1)\n",
    "resp <- req |>\n",
    "    req_perform()\n",
    "resp_json <- resp |> resp_body_string()"
   ]
  },
  {
   "cell_type": "code",
   "execution_count": 43,
   "id": "d104e890-85ea-4a82-ab6e-eca8fff6ebe1",
   "metadata": {
    "editable": true,
    "slideshow": {
     "slide_type": ""
    },
    "tags": []
   },
   "outputs": [],
   "source": [
    "json_data <- fromJSON(resp_json)\n",
    "json_data_frame_rounds <- as.data.frame(json_data)|>\n",
    "        flatten(recursive = TRUE)|>\n",
    "        select(data.entries._id,\n",
    "                data.entries.results.rounds)|>\n",
    "        unnest_wider(data.entries.results.rounds, names_sep = \"_\",\n",
    "                       names_repair = 'unique')|>\n",
    "        unnest_wider(data.entries.results.rounds_1:last_col(),\n",
    "                     names_sep = \"_\",\n",
    "                     names_repair = 'unique'\n",
    "                    )|>\n",
    "        select(!(contains('shadows')|contains('shadowedBy')))|>\n",
    "        unnest_wider(contains('stats'),\n",
    "                     names_sep = \"_\",\n",
    "                     names_repair = 'unique'\n",
    "                    )|>\n",
    "        unnest_wider(contains('data.entries.results.rounds_'),\n",
    "                     names_sep = \"_\",\n",
    "                     names_repair = 'unique')|>\n",
    "        select(!(contains('targetingfactor')|\n",
    "                 contains('targetinggrace')|\n",
    "                 contains('altitude')|\n",
    "                 data.entries.results.rounds_1_id_1|\n",
    "                 data.entries.results.rounds_1_id_2))"
   ]
  },
  {
   "cell_type": "code",
   "execution_count": 74,
   "id": "b0bd6ac0-92bb-4499-a178-98d01ee755b3",
   "metadata": {},
   "outputs": [],
   "source": [
    "json_data <- fromJSON(resp_json)\n",
    "json_data_frame_matches <- as.data.frame(json_data)|>\n",
    "        flatten(recursive = TRUE)|>\n",
    "        select(data.entries._id,\n",
    "              data.entries.results.leaderboard,\n",
    "              data.entries.extras.result)|>\n",
    "        unnest_wider(data.entries.extras.result, names_sep = \"_\",\n",
    "                       names_repair = 'unique')|>\n",
    "        unnest_wider(data.entries.results.leaderboard,\n",
    "                     names_sep = \".\",\n",
    "                     names_repair = 'unique'\n",
    "                    )"
   ]
  },
  {
   "cell_type": "code",
   "execution_count": 76,
   "id": "f67277cf-846b-4132-aa58-871d6594010e",
   "metadata": {},
   "outputs": [
    {
     "data": {
      "text/html": [
       "<style>\n",
       ".list-inline {list-style: none; margin:0; padding: 0}\n",
       ".list-inline>li {display: inline-block}\n",
       ".list-inline>li:not(:last-child)::after {content: \"\\00b7\"; padding: 0 .5ex}\n",
       "</style>\n",
       "<ol class=list-inline><li>'data.entries._id'</li><li>'data.entries.extras.result_1'</li><li>'data.entries.results.leaderboard.active'</li><li>'data.entries.results.leaderboard.id'</li><li>'data.entries.results.leaderboard.naturalorder'</li><li>'data.entries.results.leaderboard.shadowedBy'</li><li>'data.entries.results.leaderboard.shadows'</li><li>'data.entries.results.leaderboard.stats'</li><li>'data.entries.results.leaderboard.username'</li><li>'data.entries.results.leaderboard.wins'</li></ol>\n"
      ],
      "text/latex": [
       "\\begin{enumerate*}\n",
       "\\item 'data.entries.\\_id'\n",
       "\\item 'data.entries.extras.result\\_1'\n",
       "\\item 'data.entries.results.leaderboard.active'\n",
       "\\item 'data.entries.results.leaderboard.id'\n",
       "\\item 'data.entries.results.leaderboard.naturalorder'\n",
       "\\item 'data.entries.results.leaderboard.shadowedBy'\n",
       "\\item 'data.entries.results.leaderboard.shadows'\n",
       "\\item 'data.entries.results.leaderboard.stats'\n",
       "\\item 'data.entries.results.leaderboard.username'\n",
       "\\item 'data.entries.results.leaderboard.wins'\n",
       "\\end{enumerate*}\n"
      ],
      "text/markdown": [
       "1. 'data.entries._id'\n",
       "2. 'data.entries.extras.result_1'\n",
       "3. 'data.entries.results.leaderboard.active'\n",
       "4. 'data.entries.results.leaderboard.id'\n",
       "5. 'data.entries.results.leaderboard.naturalorder'\n",
       "6. 'data.entries.results.leaderboard.shadowedBy'\n",
       "7. 'data.entries.results.leaderboard.shadows'\n",
       "8. 'data.entries.results.leaderboard.stats'\n",
       "9. 'data.entries.results.leaderboard.username'\n",
       "10. 'data.entries.results.leaderboard.wins'\n",
       "\n",
       "\n"
      ],
      "text/plain": [
       " [1] \"data.entries._id\"                             \n",
       " [2] \"data.entries.extras.result_1\"                 \n",
       " [3] \"data.entries.results.leaderboard.active\"      \n",
       " [4] \"data.entries.results.leaderboard.id\"          \n",
       " [5] \"data.entries.results.leaderboard.naturalorder\"\n",
       " [6] \"data.entries.results.leaderboard.shadowedBy\"  \n",
       " [7] \"data.entries.results.leaderboard.shadows\"     \n",
       " [8] \"data.entries.results.leaderboard.stats\"       \n",
       " [9] \"data.entries.results.leaderboard.username\"    \n",
       "[10] \"data.entries.results.leaderboard.wins\"        "
      ]
     },
     "metadata": {},
     "output_type": "display_data"
    }
   ],
   "source": [
    "ls(json_data_frame_matches)"
   ]
  },
  {
   "cell_type": "code",
   "execution_count": null,
   "id": "b86cd596-6579-45d2-ad44-860213699e05",
   "metadata": {},
   "outputs": [],
   "source": [
    "ggplot( json_data_frame_matches, aes(x = vsscore_player0, y = vsscore_player1, color = \tdata.entries.results.leaderboard_wins.1))+\n",
    "geom_point()"
   ]
  },
  {
   "cell_type": "code",
   "execution_count": null,
   "id": "f7ae29cd-d532-452c-86ed-e866c84c41b5",
   "metadata": {},
   "outputs": [],
   "source": []
  },
  {
   "cell_type": "code",
   "execution_count": null,
   "id": "d5b11717-d4b0-48d3-9018-bd8cf2f87066",
   "metadata": {},
   "outputs": [],
   "source": []
  }
 ],
 "metadata": {
  "kernelspec": {
   "display_name": "R",
   "language": "R",
   "name": "ir"
  },
  "language_info": {
   "codemirror_mode": "r",
   "file_extension": ".r",
   "mimetype": "text/x-r-source",
   "name": "R",
   "pygments_lexer": "r",
   "version": "4.4.2"
  }
 },
 "nbformat": 4,
 "nbformat_minor": 5
}
